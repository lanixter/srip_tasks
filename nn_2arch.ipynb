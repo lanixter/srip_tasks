{
  "nbformat": 4,
  "nbformat_minor": 0,
  "metadata": {
    "colab": {
      "name": "nn_2arch.ipynb",
      "provenance": [],
      "collapsed_sections": []
    },
    "kernelspec": {
      "name": "python3",
      "display_name": "Python 3"
    },
    "language_info": {
      "name": "python"
    }
  },
  "cells": [
    {
      "cell_type": "markdown",
      "source": [
        "# Implementing a two layer neural network classifier over MNIST\n",
        "---"
      ],
      "metadata": {
        "id": "N6xVAcwhr3TC"
      }
    },
    {
      "cell_type": "markdown",
      "source": [
        "I have tried to implement a hard coded model, with two hidden layers. However, I could not process the MNIST dataset to train the model as instructed in the provided task, under the given timeframe. <p>\n",
        "I could not successfully intertwine the cost function and implement a backpropagation algorothm for the main model that was to be trained on the MNIST dataset.<p>\n",
        "Below is a partially executed task on my part, and I am hereby submitting what I could come up with in the given timeframe."
      ],
      "metadata": {
        "id": "JS-cvRq8tVpz"
      }
    },
    {
      "cell_type": "markdown",
      "source": [
        "# Three Layer Hard Coded Model"
      ],
      "metadata": {
        "id": "3xwSRnGgm0fE"
      }
    },
    {
      "cell_type": "code",
      "source": [
        "import numpy as np\n",
        "import jax.numpy as jnp\n",
        "import numpy.random as npr\n",
        "import matplotlib.pyplot as plt"
      ],
      "metadata": {
        "id": "RGiOZOfYiind"
      },
      "execution_count": 1,
      "outputs": []
    },
    {
      "cell_type": "code",
      "source": [
        "X = np.array([[0, 0, 0],\n",
        "              [0, 0, 1],\n",
        "              [0, 1, 0],\n",
        "              [0, 1, 1],\n",
        "              [1, 0, 0],\n",
        "              [1, 0, 1],\n",
        "              [1, 1, 0],\n",
        "              [1, 1, 1]])"
      ],
      "metadata": {
        "id": "ErYBt1oeicbZ"
      },
      "execution_count": 2,
      "outputs": []
    },
    {
      "cell_type": "code",
      "source": [
        "y = np.array([[0], [1], [0], [1], [0], [1], [1], [1]])"
      ],
      "metadata": {
        "id": "K6NeSXzHi9vQ"
      },
      "execution_count": 3,
      "outputs": []
    },
    {
      "cell_type": "code",
      "source": [
        "#\n",
        "inputs = 3\n",
        "hidden1 = 4\n",
        "hidden2 = 4\n",
        "outputs = 1"
      ],
      "metadata": {
        "id": "8DKCEH-pIglk"
      },
      "execution_count": 4,
      "outputs": []
    },
    {
      "cell_type": "code",
      "source": [
        "#\n",
        "W1 = np.random.randn(inputs, hidden1)\n",
        "b1 = np.ones((1, hidden1))\n",
        "\n",
        "W2 = np.random.randn(hidden1, hidden2)\n",
        "b2 = np.ones((1, hidden2))\n",
        "\n",
        "W3 = np.random.randn(hidden2, outputs)\n",
        "b3 = np.ones((1, outputs))"
      ],
      "metadata": {
        "id": "chQvuymoInTh"
      },
      "execution_count": 5,
      "outputs": []
    },
    {
      "cell_type": "code",
      "source": [
        "a1 = np.dot(X, W1) + b1\n",
        "print(a1)\n",
        "print(np.dot(X, W1))"
      ],
      "metadata": {
        "colab": {
          "base_uri": "https://localhost:8080/"
        },
        "id": "Wxfeu3i1jYUc",
        "outputId": "0c5f548c-3494-4a05-a69b-4e014f9e1cf4"
      },
      "execution_count": 6,
      "outputs": [
        {
          "output_type": "stream",
          "name": "stdout",
          "text": [
            "[[ 1.          1.          1.          1.        ]\n",
            " [ 0.16887524  1.05868077 -0.80529245  0.41213063]\n",
            " [ 2.9746596  -0.13954552  1.6780814   0.95752552]\n",
            " [ 2.14353483 -0.08086475 -0.12721104  0.36965615]\n",
            " [ 1.40519882  0.75577258  0.97426676  0.28186825]\n",
            " [ 0.57407406  0.81445335 -0.83102569 -0.30600112]\n",
            " [ 3.37985841 -0.38377295  1.65234816  0.23939376]\n",
            " [ 2.54873365 -0.32509218 -0.15294428 -0.34847561]]\n",
            "[[ 0.          0.          0.          0.        ]\n",
            " [-0.83112476  0.05868077 -1.80529245 -0.58786937]\n",
            " [ 1.9746596  -1.13954552  0.6780814  -0.04247448]\n",
            " [ 1.14353483 -1.08086475 -1.12721104 -0.63034385]\n",
            " [ 0.40519882 -0.24422742 -0.02573324 -0.71813175]\n",
            " [-0.42592594 -0.18554665 -1.83102569 -1.30600112]\n",
            " [ 2.37985841 -1.38377295  0.65234816 -0.76060624]\n",
            " [ 1.54873365 -1.32509218 -1.15294428 -1.34847561]]\n"
          ]
        }
      ]
    },
    {
      "cell_type": "code",
      "source": [
        "def sigmoid(x):\n",
        "    return 1 / (1 + np.exp(-x))"
      ],
      "metadata": {
        "id": "HBDVsR5AkUUJ"
      },
      "execution_count": 7,
      "outputs": []
    },
    {
      "cell_type": "code",
      "source": [
        "#\n",
        "def forward_propagation(W1, W2, W3):\n",
        "    a1 = np.dot(X, W1) + b1\n",
        "    z1 = sigmoid(a1)\n",
        "\n",
        "    a2 = np.dot(z1, W2) + b2\n",
        "    z2 = sigmoid(a2)\n",
        "\n",
        "    a3 = np.dot(z2, W3) + b3\n",
        "    y_pred = sigmoid(a3)\n",
        "    return a1, z1, a2, z2, a3, y_pred"
      ],
      "metadata": {
        "id": "4jbqi_PHJZVZ"
      },
      "execution_count": 8,
      "outputs": []
    },
    {
      "cell_type": "code",
      "source": [
        "def compute_cost(y_pred):\n",
        "    J = 0.5 * sum((y - y_pred) ** 2)\n",
        "    return J"
      ],
      "metadata": {
        "id": "CQnLZ1Yxkg5F"
      },
      "execution_count": 9,
      "outputs": []
    },
    {
      "cell_type": "code",
      "source": [
        "def sigmoid_derivative(x):\n",
        "    return np.exp(-x) / ((1 + np.exp(-x)) ** 2)"
      ],
      "metadata": {
        "id": "o5IjB1tjkohS"
      },
      "execution_count": 10,
      "outputs": []
    },
    {
      "cell_type": "code",
      "source": [
        "#\n",
        "def backward_propagation(y_pred, z3, a2, z2, a1, z1):\n",
        "    delta3 = np.multiply(-(y - y_pred), sigmoid_derivative(z3))\n",
        "    dJ_dW3 = np.dot(a2.T, delta3)\n",
        "\n",
        "    delta2 = np.dot(delta3, W3.T) * sigmoid_derivative(z2)\n",
        "    dJ_dW2 = np.dot(a1.T, delta2)\n",
        "\n",
        "    delta1 = np.dot(delta2, W2.T) * sigmoid_derivative(z1)\n",
        "    dJ_dW1 = np.dot(X.T, delta1)\n",
        "\n",
        "    return dJ_dW1, dJ_dW2, dJ_dW3"
      ],
      "metadata": {
        "id": "y4yqHultJ7bq"
      },
      "execution_count": 11,
      "outputs": []
    },
    {
      "cell_type": "code",
      "source": [
        "#\n",
        "alpha = 0.01\n",
        "num_iterations = 10000\n",
        "cost=[]\n",
        "for i in range(num_iterations):\n",
        "    z1, a1, z2, a2, z3,  y_pred = forward_propagation(W1, W2, W3)\n",
        "    dJ_dW1, dJ_dW2, dJ_dW3 = backward_propagation(y_pred, z3, a2, z2, a1, z1)\n",
        "\n",
        "    W1 = W1 - (alpha * dJ_dW1)\n",
        "    W2 = W2 - (alpha * dJ_dW2)\n",
        "    W3 = W3 - (alpha * dJ_dW3)\n",
        "\n",
        "    c = compute_cost(y_pred)\n",
        "    cost.append(c)"
      ],
      "metadata": {
        "id": "XwQqb6r_LBka"
      },
      "execution_count": 12,
      "outputs": []
    },
    {
      "cell_type": "code",
      "source": [
        "plt.grid() \n",
        "plt.plot(range(num_iterations), cost)\n",
        "plt.title('Loss vs. Iterations') \n",
        "plt.xlabel('Number of Iterations') \n",
        "plt.ylabel('Loss')"
      ],
      "metadata": {
        "colab": {
          "base_uri": "https://localhost:8080/",
          "height": 312
        },
        "id": "RtHEkZ--l7aT",
        "outputId": "ab5bfc03-6409-4119-d8e9-8db1615dbeaf"
      },
      "execution_count": 13,
      "outputs": [
        {
          "output_type": "execute_result",
          "data": {
            "text/plain": [
              "Text(0, 0.5, 'Loss')"
            ]
          },
          "metadata": {},
          "execution_count": 13
        },
        {
          "output_type": "display_data",
          "data": {
            "text/plain": [
              "<Figure size 432x288 with 1 Axes>"
            ],
            "image/png": "[encoded data removed]"
          },
          "metadata": {
            "needs_background": "light"
          }
        }
      ]
    },
    {
      "cell_type": "markdown",
      "source": [
        "### **Main Model Implementation**"
      ],
      "metadata": {
        "id": "lxB82owZm7c8"
      }
    },
    {
      "cell_type": "code",
      "source": [
        "import numpy as np # linear algebra\n",
        "import pandas as pd # data processing, CSV file I/O (e.g. pd.read_csv)\n",
        "import matplotlib\n",
        "import matplotlib.pyplot as plt \n",
        "import seaborn as sns\n",
        "%matplotlib inline \n",
        "\n",
        "#import os\n",
        "#print(os.listdir(\"../input\"))\n",
        "\n",
        "from keras.datasets import mnist\n",
        "from keras.utils import np_utils"
      ],
      "metadata": {
        "id": "H72IXGCTozOJ"
      },
      "execution_count": null,
      "outputs": []
    },
    {
      "cell_type": "code",
      "source": [
        "(x_train, y_train), (x_test, y_test) = mnist.load_data()"
      ],
      "metadata": {
        "id": "qqb6DYsetHPY",
        "colab": {
          "base_uri": "https://localhost:8080/"
        },
        "outputId": "29ff8f16-0d71-4bb8-f1aa-a4058788d1d4"
      },
      "execution_count": null,
      "outputs": [
        {
          "output_type": "stream",
          "name": "stdout",
          "text": [
            "Downloading data from https://storage.googleapis.com/tensorflow/tf-keras-datasets/mnist.npz\n",
            "11493376/11490434 [==============================] - 0s 0us/step\n",
            "11501568/11490434 [==============================] - 0s 0us/step\n"
          ]
        }
      ]
    },
    {
      "cell_type": "code",
      "source": [
        "x_train = x_train.reshape(x_train.shape[0], 1, 28*28)\n",
        "x_train = x_train.astype('float32')\n",
        "x_train /= 255\n",
        "y_train = np_utils.to_categorical(y_train)"
      ],
      "metadata": {
        "id": "TOzwUS-etKTp"
      },
      "execution_count": null,
      "outputs": []
    },
    {
      "cell_type": "code",
      "source": [
        "x_test = x_test.reshape(x_test.shape[0], 1, 28*28)\n",
        "x_test = x_test.astype('float32')\n",
        "x_test /= 255\n",
        "y_test = np_utils.to_categorical(y_test)"
      ],
      "metadata": {
        "id": "KZM5CVk_tW53"
      },
      "execution_count": null,
      "outputs": []
    },
    {
      "cell_type": "code",
      "source": [
        "print('training_data shape: ', x_train.shape)\n",
        "print('testing data shape : ', x_test.shape)"
      ],
      "metadata": {
        "colab": {
          "base_uri": "https://localhost:8080/"
        },
        "id": "51_E-yvktn93",
        "outputId": "4406ea97-8003-48f0-c804-9a75c89e607d"
      },
      "execution_count": null,
      "outputs": [
        {
          "output_type": "stream",
          "name": "stdout",
          "text": [
            "training_data shape:  (60000, 1, 784)\n",
            "testing data shape :  (10000, 1, 784)\n"
          ]
        }
      ]
    },
    {
      "cell_type": "code",
      "source": [
        "y_train.shape"
      ],
      "metadata": {
        "colab": {
          "base_uri": "https://localhost:8080/"
        },
        "id": "ytM3ckzEuWO2",
        "outputId": "039eab69-5366-4e32-f86b-07bb354bbdd4"
      },
      "execution_count": null,
      "outputs": [
        {
          "output_type": "execute_result",
          "data": {
            "text/plain": [
              "(60000, 10)"
            ]
          },
          "metadata": {},
          "execution_count": 62
        }
      ]
    },
    {
      "cell_type": "code",
      "source": [
        "print(\"Training Data shape   :\",x_train.shape)\n",
        "print('Training Label shape  :', y_train.shape)\n",
        "print(\"Testing Data shape    :\",x_test.shape)"
      ],
      "metadata": {
        "colab": {
          "base_uri": "https://localhost:8080/"
        },
        "id": "MNpYKEltyJQH",
        "outputId": "21927056-424e-4e25-ab55-25acbd88af35"
      },
      "execution_count": null,
      "outputs": [
        {
          "output_type": "stream",
          "name": "stdout",
          "text": [
            "Training Data shape   : (60000, 1, 784)\n",
            "Training Label shape  : (60000, 10)\n",
            "Testing Data shape    : (10000, 1, 784)\n"
          ]
        }
      ]
    },
    {
      "cell_type": "code",
      "source": [
        "n_x = 784 \n",
        "n_h1 = 64 \n",
        "n_h2 = 64\n",
        "n_y = 10\n",
        "\n",
        "learning_rate = 0.05"
      ],
      "metadata": {
        "id": "uqZnWw0DR1aL"
      },
      "execution_count": null,
      "outputs": []
    },
    {
      "cell_type": "code",
      "source": [
        "def compute_loss(Y, Y_hat):\n",
        "\n",
        "    L_sum = np.sum(np.multiply(Y, np.log(Y_hat)))\n",
        "    m = Y.shape[1]\n",
        "    L = -(1/m) * L_sum\n",
        "\n",
        "    return L"
      ],
      "metadata": {
        "id": "PEws4ciYSHgY"
      },
      "execution_count": null,
      "outputs": []
    },
    {
      "cell_type": "code",
      "source": [
        "def sigmoid(x):\n",
        "    return 1.0/(1.0+np.exp(-x))\n",
        "\n",
        "def sigmoid_prime(x):\n",
        "     return sigmoid(x)*(1-sigmoid(x))"
      ],
      "metadata": {
        "id": "A8sloMM8SIua"
      },
      "execution_count": null,
      "outputs": []
    },
    {
      "cell_type": "code",
      "source": [
        "W1 = np.random.randn(n_h1, n_x)\n",
        "b1 = np.zeros((n_h1,1))\n",
        "    \n",
        "W2 = np.random.randn(n_h2, n_h1)\n",
        "b2 = np.zeros((n_h2,1))\n",
        "\n",
        "W3 = np.random.randn(n_y, n_h2)\n",
        "b3 = np.zeros((n_y,1))\n",
        "\n",
        "#     params = {'W1':W1, 'W2': W2, 'b1':b1, 'b2':b2}\n",
        "    \n",
        "#     return params\n",
        "\n",
        "print('W1:',W1.shape)\n",
        "print('b1:',b1.shape)\n",
        "print('\\nW2:',W2.shape)\n",
        "print('b2:',b2.shape)\n",
        "print('\\nW3:',W3.shape)\n",
        "print('b3:',b3.shape)"
      ],
      "metadata": {
        "colab": {
          "base_uri": "https://localhost:8080/"
        },
        "id": "m8cmWd2lSOtk",
        "outputId": "9fa1e1e4-2608-4da8-afa3-89207d082976"
      },
      "execution_count": null,
      "outputs": [
        {
          "output_type": "stream",
          "name": "stdout",
          "text": [
            "W1: (64, 784)\n",
            "b1: (64, 1)\n",
            "\n",
            "W2: (64, 64)\n",
            "b2: (64, 1)\n",
            "\n",
            "W3: (10, 64)\n",
            "b3: (10, 1)\n"
          ]
        }
      ]
    }
  ]
}